{
  "nbformat": 4,
  "nbformat_minor": 0,
  "metadata": {
    "colab": {
      "provenance": []
    },
    "kernelspec": {
      "name": "python3",
      "display_name": "Python 3"
    },
    "language_info": {
      "name": "python"
    }
  },
  "cells": [
    {
      "cell_type": "markdown",
      "source": [
        "# Objective"
      ],
      "metadata": {
        "id": "oLGEuzu7FTek"
      }
    },
    {
      "cell_type": "markdown",
      "source": [
        "In this challenge, we will explore the famous Iris dataset, go\n",
        "through the steps of the Data Science Lifecycle, and build a\n",
        "simple machine learning model from scratch that predicts\n",
        "the species of an iris flower based on its measurements."
      ],
      "metadata": {
        "id": "Nt9KsDs6FOrL"
      }
    },
    {
      "cell_type": "markdown",
      "source": [
        "# Dataset"
      ],
      "metadata": {
        "id": "ic2kTF6ZFXbf"
      }
    },
    {
      "cell_type": "markdown",
      "source": [
        " Iris [Dataset](https://archive.ics.uci.edu/dataset/53/iris) (UCI ML Repository – Iris Data)\n",
        "\n",
        " The dataset variables include: 4 features\n",
        "\n",
        "- Sepal length (cm)\n",
        "\n",
        "- Sepal width (cm)\n",
        "\n",
        "- Petal length (cm)\n",
        "\n",
        "- Petal width (cm)\n",
        "\n",
        "- Target: iris species (Iris-setosa, Iris-versicolor,\n",
        "Iris-virginica) - 3 classes"
      ],
      "metadata": {
        "id": "lU3iCqhlFZ4Q"
      }
    },
    {
      "cell_type": "markdown",
      "source": [
        "# 1. Data Loading"
      ],
      "metadata": {
        "id": "3uYUgVBmGMbY"
      }
    },
    {
      "cell_type": "markdown",
      "source": [
        "## Import Necessary Python Modules\n",
        "\n",
        "We will need the following libraries:\n",
        " - Numpy — for scientific computing (e.g., linear algebra (vectors & matrices)).\n",
        " - Pandas — providing high-performance, easy-to-use data reading, manipulation, and analysis.\n",
        " - Matplotlib — plotting & visualization.\n",
        " - scikit-learn — a tool for data mining and machine learning models."
      ],
      "metadata": {
        "id": "RF7oKq4WGNT5"
      }
    },
    {
      "cell_type": "code",
      "execution_count": null,
      "metadata": {
        "id": "guhK1TTME3Af"
      },
      "outputs": [],
      "source": [
        "import numpy as np\n",
        "import pandas as pd\n",
        "import matplotlib.pyplot as plt\n",
        "\n",
        "from sklearn.model_selection import train_test_split\n",
        "from sklearn.linear_model import LinearRegression"
      ]
    },
    {
      "cell_type": "markdown",
      "source": [
        "## Load the Data"
      ],
      "metadata": {
        "id": "NXnLuG_yGTj9"
      }
    },
    {
      "cell_type": "code",
      "source": [
        "url = \"https://archive.ics.uci.edu/ml/machine-learning-databases/iris/iris.data\"\n",
        "\n",
        "#define column names as the dataset doesn't include a header row\n",
        "columns = ['sepal_length', 'sepal_width', 'petal_length', 'petal_width', 'class']\n",
        "\n",
        "#read the data\n",
        "df = pd.read_csv(url, header=None, names=columns)\n",
        "\n",
        "#print the first few rows\n",
        "print(df.head())"
      ],
      "metadata": {
        "colab": {
          "base_uri": "https://localhost:8080/"
        },
        "id": "g2kGxSXdGUE-",
        "outputId": "1731f48f-d931-4c6d-91f5-f20666b3e70a"
      },
      "execution_count": null,
      "outputs": [
        {
          "output_type": "stream",
          "name": "stdout",
          "text": [
            "   sepal_length  sepal_width  petal_length  petal_width        class\n",
            "0           5.1          3.5           1.4          0.2  Iris-setosa\n",
            "1           4.9          3.0           1.4          0.2  Iris-setosa\n",
            "2           4.7          3.2           1.3          0.2  Iris-setosa\n",
            "3           4.6          3.1           1.5          0.2  Iris-setosa\n",
            "4           5.0          3.6           1.4          0.2  Iris-setosa\n"
          ]
        }
      ]
    },
    {
      "cell_type": "markdown",
      "source": [
        "# 2. Exploratory Data Analysis\n",
        "\n",
        "## Let's Dig Deeper & Understand our Data"
      ],
      "metadata": {
        "id": "JYLvxAbpHioz"
      }
    },
    {
      "cell_type": "code",
      "source": [
        "#get the number of rows and columns\n",
        "rows = df.shape[0]\n",
        "columns = df.shape[1]\n",
        "\n",
        "print('There are {} rows and {} columns.'.format(rows,columns))"
      ],
      "metadata": {
        "colab": {
          "base_uri": "https://localhost:8080/"
        },
        "id": "YxCfqcZlHibi",
        "outputId": "e12ee717-213b-4984-e6b7-4f976b5522d1"
      },
      "execution_count": null,
      "outputs": [
        {
          "output_type": "stream",
          "name": "stdout",
          "text": [
            "There are 150 rows and 5 columns.\n"
          ]
        }
      ]
    },
    {
      "cell_type": "markdown",
      "source": [
        "Using the function **info()**, we can check:\n",
        " - data types (int, float, or object (e.g., string))\n",
        " - missing values\n",
        " - memory usage\n",
        " - number of rows and columns"
      ],
      "metadata": {
        "id": "_ruy21JqIE1h"
      }
    },
    {
      "cell_type": "code",
      "source": [
        "df.info()"
      ],
      "metadata": {
        "colab": {
          "base_uri": "https://localhost:8080/"
        },
        "id": "At37tCxIIElR",
        "outputId": "155528c6-ac50-4283-a92a-4f335011eb25"
      },
      "execution_count": null,
      "outputs": [
        {
          "output_type": "stream",
          "name": "stdout",
          "text": [
            "<class 'pandas.core.frame.DataFrame'>\n",
            "RangeIndex: 150 entries, 0 to 149\n",
            "Data columns (total 5 columns):\n",
            " #   Column        Non-Null Count  Dtype  \n",
            "---  ------        --------------  -----  \n",
            " 0   sepal_length  150 non-null    float64\n",
            " 1   sepal_width   150 non-null    float64\n",
            " 2   petal_length  150 non-null    float64\n",
            " 3   petal_width   150 non-null    float64\n",
            " 4   class         150 non-null    object \n",
            "dtypes: float64(4), object(1)\n",
            "memory usage: 6.0+ KB\n"
          ]
        }
      ]
    },
    {
      "cell_type": "markdown",
      "source": [
        "So we have 5 columns (4 features and 1 target variable) and 150 rows or entries.\n",
        "\n",
        "Moreover there is no missing values in the dataset!!!"
      ],
      "metadata": {
        "id": "KxC7kAA9XF0V"
      }
    },
    {
      "cell_type": "markdown",
      "source": [
        "## Double Check Missing Values"
      ],
      "metadata": {
        "id": "i-_GQHhdmYCj"
      }
    },
    {
      "cell_type": "code",
      "source": [
        "print('missing values per column')\n",
        "print(df.isnull().sum())"
      ],
      "metadata": {
        "colab": {
          "base_uri": "https://localhost:8080/"
        },
        "id": "6OvP7ChPOnvQ",
        "outputId": "675f5a4c-53fc-4b64-e1cb-df720f4991e4"
      },
      "execution_count": null,
      "outputs": [
        {
          "output_type": "stream",
          "name": "stdout",
          "text": [
            "missing values per column\n",
            "sepal_length    0\n",
            "sepal_width     0\n",
            "petal_length    0\n",
            "petal_width     0\n",
            "class           0\n",
            "dtype: int64\n"
          ]
        }
      ]
    },
    {
      "cell_type": "markdown",
      "source": [
        "No missing values!!"
      ],
      "metadata": {
        "id": "irAwG1HOIKRz"
      }
    },
    {
      "cell_type": "markdown",
      "source": [
        "Using the function **describe()**, we can check the mean, standard deviation, maximum, and minimum of each numerical feature (column)"
      ],
      "metadata": {
        "id": "EkWevPyOINn-"
      }
    },
    {
      "cell_type": "code",
      "source": [
        "df.describe()"
      ],
      "metadata": {
        "colab": {
          "base_uri": "https://localhost:8080/",
          "height": 300
        },
        "id": "gpV-tyZ6IOH0",
        "outputId": "6691a091-4144-4247-9ca0-e923c2c63982"
      },
      "execution_count": null,
      "outputs": [
        {
          "output_type": "execute_result",
          "data": {
            "text/plain": [
              "       sepal_length  sepal_width  petal_length  petal_width\n",
              "count    150.000000   150.000000    150.000000   150.000000\n",
              "mean       5.843333     3.054000      3.758667     1.198667\n",
              "std        0.828066     0.433594      1.764420     0.763161\n",
              "min        4.300000     2.000000      1.000000     0.100000\n",
              "25%        5.100000     2.800000      1.600000     0.300000\n",
              "50%        5.800000     3.000000      4.350000     1.300000\n",
              "75%        6.400000     3.300000      5.100000     1.800000\n",
              "max        7.900000     4.400000      6.900000     2.500000"
            ],
            "text/html": [
              "\n",
              "  <div id=\"df-ba7ec81f-b64c-4406-94c1-1620c23d0ba8\" class=\"colab-df-container\">\n",
              "    <div>\n",
              "<style scoped>\n",
              "    .dataframe tbody tr th:only-of-type {\n",
              "        vertical-align: middle;\n",
              "    }\n",
              "\n",
              "    .dataframe tbody tr th {\n",
              "        vertical-align: top;\n",
              "    }\n",
              "\n",
              "    .dataframe thead th {\n",
              "        text-align: right;\n",
              "    }\n",
              "</style>\n",
              "<table border=\"1\" class=\"dataframe\">\n",
              "  <thead>\n",
              "    <tr style=\"text-align: right;\">\n",
              "      <th></th>\n",
              "      <th>sepal_length</th>\n",
              "      <th>sepal_width</th>\n",
              "      <th>petal_length</th>\n",
              "      <th>petal_width</th>\n",
              "    </tr>\n",
              "  </thead>\n",
              "  <tbody>\n",
              "    <tr>\n",
              "      <th>count</th>\n",
              "      <td>150.000000</td>\n",
              "      <td>150.000000</td>\n",
              "      <td>150.000000</td>\n",
              "      <td>150.000000</td>\n",
              "    </tr>\n",
              "    <tr>\n",
              "      <th>mean</th>\n",
              "      <td>5.843333</td>\n",
              "      <td>3.054000</td>\n",
              "      <td>3.758667</td>\n",
              "      <td>1.198667</td>\n",
              "    </tr>\n",
              "    <tr>\n",
              "      <th>std</th>\n",
              "      <td>0.828066</td>\n",
              "      <td>0.433594</td>\n",
              "      <td>1.764420</td>\n",
              "      <td>0.763161</td>\n",
              "    </tr>\n",
              "    <tr>\n",
              "      <th>min</th>\n",
              "      <td>4.300000</td>\n",
              "      <td>2.000000</td>\n",
              "      <td>1.000000</td>\n",
              "      <td>0.100000</td>\n",
              "    </tr>\n",
              "    <tr>\n",
              "      <th>25%</th>\n",
              "      <td>5.100000</td>\n",
              "      <td>2.800000</td>\n",
              "      <td>1.600000</td>\n",
              "      <td>0.300000</td>\n",
              "    </tr>\n",
              "    <tr>\n",
              "      <th>50%</th>\n",
              "      <td>5.800000</td>\n",
              "      <td>3.000000</td>\n",
              "      <td>4.350000</td>\n",
              "      <td>1.300000</td>\n",
              "    </tr>\n",
              "    <tr>\n",
              "      <th>75%</th>\n",
              "      <td>6.400000</td>\n",
              "      <td>3.300000</td>\n",
              "      <td>5.100000</td>\n",
              "      <td>1.800000</td>\n",
              "    </tr>\n",
              "    <tr>\n",
              "      <th>max</th>\n",
              "      <td>7.900000</td>\n",
              "      <td>4.400000</td>\n",
              "      <td>6.900000</td>\n",
              "      <td>2.500000</td>\n",
              "    </tr>\n",
              "  </tbody>\n",
              "</table>\n",
              "</div>\n",
              "    <div class=\"colab-df-buttons\">\n",
              "\n",
              "  <div class=\"colab-df-container\">\n",
              "    <button class=\"colab-df-convert\" onclick=\"convertToInteractive('df-ba7ec81f-b64c-4406-94c1-1620c23d0ba8')\"\n",
              "            title=\"Convert this dataframe to an interactive table.\"\n",
              "            style=\"display:none;\">\n",
              "\n",
              "  <svg xmlns=\"http://www.w3.org/2000/svg\" height=\"24px\" viewBox=\"0 -960 960 960\">\n",
              "    <path d=\"M120-120v-720h720v720H120Zm60-500h600v-160H180v160Zm220 220h160v-160H400v160Zm0 220h160v-160H400v160ZM180-400h160v-160H180v160Zm440 0h160v-160H620v160ZM180-180h160v-160H180v160Zm440 0h160v-160H620v160Z\"/>\n",
              "  </svg>\n",
              "    </button>\n",
              "\n",
              "  <style>\n",
              "    .colab-df-container {\n",
              "      display:flex;\n",
              "      gap: 12px;\n",
              "    }\n",
              "\n",
              "    .colab-df-convert {\n",
              "      background-color: #E8F0FE;\n",
              "      border: none;\n",
              "      border-radius: 50%;\n",
              "      cursor: pointer;\n",
              "      display: none;\n",
              "      fill: #1967D2;\n",
              "      height: 32px;\n",
              "      padding: 0 0 0 0;\n",
              "      width: 32px;\n",
              "    }\n",
              "\n",
              "    .colab-df-convert:hover {\n",
              "      background-color: #E2EBFA;\n",
              "      box-shadow: 0px 1px 2px rgba(60, 64, 67, 0.3), 0px 1px 3px 1px rgba(60, 64, 67, 0.15);\n",
              "      fill: #174EA6;\n",
              "    }\n",
              "\n",
              "    .colab-df-buttons div {\n",
              "      margin-bottom: 4px;\n",
              "    }\n",
              "\n",
              "    [theme=dark] .colab-df-convert {\n",
              "      background-color: #3B4455;\n",
              "      fill: #D2E3FC;\n",
              "    }\n",
              "\n",
              "    [theme=dark] .colab-df-convert:hover {\n",
              "      background-color: #434B5C;\n",
              "      box-shadow: 0px 1px 3px 1px rgba(0, 0, 0, 0.15);\n",
              "      filter: drop-shadow(0px 1px 2px rgba(0, 0, 0, 0.3));\n",
              "      fill: #FFFFFF;\n",
              "    }\n",
              "  </style>\n",
              "\n",
              "    <script>\n",
              "      const buttonEl =\n",
              "        document.querySelector('#df-ba7ec81f-b64c-4406-94c1-1620c23d0ba8 button.colab-df-convert');\n",
              "      buttonEl.style.display =\n",
              "        google.colab.kernel.accessAllowed ? 'block' : 'none';\n",
              "\n",
              "      async function convertToInteractive(key) {\n",
              "        const element = document.querySelector('#df-ba7ec81f-b64c-4406-94c1-1620c23d0ba8');\n",
              "        const dataTable =\n",
              "          await google.colab.kernel.invokeFunction('convertToInteractive',\n",
              "                                                    [key], {});\n",
              "        if (!dataTable) return;\n",
              "\n",
              "        const docLinkHtml = 'Like what you see? Visit the ' +\n",
              "          '<a target=\"_blank\" href=https://colab.research.google.com/notebooks/data_table.ipynb>data table notebook</a>'\n",
              "          + ' to learn more about interactive tables.';\n",
              "        element.innerHTML = '';\n",
              "        dataTable['output_type'] = 'display_data';\n",
              "        await google.colab.output.renderOutput(dataTable, element);\n",
              "        const docLink = document.createElement('div');\n",
              "        docLink.innerHTML = docLinkHtml;\n",
              "        element.appendChild(docLink);\n",
              "      }\n",
              "    </script>\n",
              "  </div>\n",
              "\n",
              "\n",
              "    <div id=\"df-c4cfdb9d-0a8e-4563-8400-1cd805ce21b6\">\n",
              "      <button class=\"colab-df-quickchart\" onclick=\"quickchart('df-c4cfdb9d-0a8e-4563-8400-1cd805ce21b6')\"\n",
              "                title=\"Suggest charts\"\n",
              "                style=\"display:none;\">\n",
              "\n",
              "<svg xmlns=\"http://www.w3.org/2000/svg\" height=\"24px\"viewBox=\"0 0 24 24\"\n",
              "     width=\"24px\">\n",
              "    <g>\n",
              "        <path d=\"M19 3H5c-1.1 0-2 .9-2 2v14c0 1.1.9 2 2 2h14c1.1 0 2-.9 2-2V5c0-1.1-.9-2-2-2zM9 17H7v-7h2v7zm4 0h-2V7h2v10zm4 0h-2v-4h2v4z\"/>\n",
              "    </g>\n",
              "</svg>\n",
              "      </button>\n",
              "\n",
              "<style>\n",
              "  .colab-df-quickchart {\n",
              "      --bg-color: #E8F0FE;\n",
              "      --fill-color: #1967D2;\n",
              "      --hover-bg-color: #E2EBFA;\n",
              "      --hover-fill-color: #174EA6;\n",
              "      --disabled-fill-color: #AAA;\n",
              "      --disabled-bg-color: #DDD;\n",
              "  }\n",
              "\n",
              "  [theme=dark] .colab-df-quickchart {\n",
              "      --bg-color: #3B4455;\n",
              "      --fill-color: #D2E3FC;\n",
              "      --hover-bg-color: #434B5C;\n",
              "      --hover-fill-color: #FFFFFF;\n",
              "      --disabled-bg-color: #3B4455;\n",
              "      --disabled-fill-color: #666;\n",
              "  }\n",
              "\n",
              "  .colab-df-quickchart {\n",
              "    background-color: var(--bg-color);\n",
              "    border: none;\n",
              "    border-radius: 50%;\n",
              "    cursor: pointer;\n",
              "    display: none;\n",
              "    fill: var(--fill-color);\n",
              "    height: 32px;\n",
              "    padding: 0;\n",
              "    width: 32px;\n",
              "  }\n",
              "\n",
              "  .colab-df-quickchart:hover {\n",
              "    background-color: var(--hover-bg-color);\n",
              "    box-shadow: 0 1px 2px rgba(60, 64, 67, 0.3), 0 1px 3px 1px rgba(60, 64, 67, 0.15);\n",
              "    fill: var(--button-hover-fill-color);\n",
              "  }\n",
              "\n",
              "  .colab-df-quickchart-complete:disabled,\n",
              "  .colab-df-quickchart-complete:disabled:hover {\n",
              "    background-color: var(--disabled-bg-color);\n",
              "    fill: var(--disabled-fill-color);\n",
              "    box-shadow: none;\n",
              "  }\n",
              "\n",
              "  .colab-df-spinner {\n",
              "    border: 2px solid var(--fill-color);\n",
              "    border-color: transparent;\n",
              "    border-bottom-color: var(--fill-color);\n",
              "    animation:\n",
              "      spin 1s steps(1) infinite;\n",
              "  }\n",
              "\n",
              "  @keyframes spin {\n",
              "    0% {\n",
              "      border-color: transparent;\n",
              "      border-bottom-color: var(--fill-color);\n",
              "      border-left-color: var(--fill-color);\n",
              "    }\n",
              "    20% {\n",
              "      border-color: transparent;\n",
              "      border-left-color: var(--fill-color);\n",
              "      border-top-color: var(--fill-color);\n",
              "    }\n",
              "    30% {\n",
              "      border-color: transparent;\n",
              "      border-left-color: var(--fill-color);\n",
              "      border-top-color: var(--fill-color);\n",
              "      border-right-color: var(--fill-color);\n",
              "    }\n",
              "    40% {\n",
              "      border-color: transparent;\n",
              "      border-right-color: var(--fill-color);\n",
              "      border-top-color: var(--fill-color);\n",
              "    }\n",
              "    60% {\n",
              "      border-color: transparent;\n",
              "      border-right-color: var(--fill-color);\n",
              "    }\n",
              "    80% {\n",
              "      border-color: transparent;\n",
              "      border-right-color: var(--fill-color);\n",
              "      border-bottom-color: var(--fill-color);\n",
              "    }\n",
              "    90% {\n",
              "      border-color: transparent;\n",
              "      border-bottom-color: var(--fill-color);\n",
              "    }\n",
              "  }\n",
              "</style>\n",
              "\n",
              "      <script>\n",
              "        async function quickchart(key) {\n",
              "          const quickchartButtonEl =\n",
              "            document.querySelector('#' + key + ' button');\n",
              "          quickchartButtonEl.disabled = true;  // To prevent multiple clicks.\n",
              "          quickchartButtonEl.classList.add('colab-df-spinner');\n",
              "          try {\n",
              "            const charts = await google.colab.kernel.invokeFunction(\n",
              "                'suggestCharts', [key], {});\n",
              "          } catch (error) {\n",
              "            console.error('Error during call to suggestCharts:', error);\n",
              "          }\n",
              "          quickchartButtonEl.classList.remove('colab-df-spinner');\n",
              "          quickchartButtonEl.classList.add('colab-df-quickchart-complete');\n",
              "        }\n",
              "        (() => {\n",
              "          let quickchartButtonEl =\n",
              "            document.querySelector('#df-c4cfdb9d-0a8e-4563-8400-1cd805ce21b6 button');\n",
              "          quickchartButtonEl.style.display =\n",
              "            google.colab.kernel.accessAllowed ? 'block' : 'none';\n",
              "        })();\n",
              "      </script>\n",
              "    </div>\n",
              "\n",
              "    </div>\n",
              "  </div>\n"
            ],
            "application/vnd.google.colaboratory.intrinsic+json": {
              "type": "dataframe",
              "summary": "{\n  \"name\": \"df\",\n  \"rows\": 8,\n  \"fields\": [\n    {\n      \"column\": \"sepal_length\",\n      \"properties\": {\n        \"dtype\": \"number\",\n        \"std\": 51.24711349471842,\n        \"min\": 0.8280661279778629,\n        \"max\": 150.0,\n        \"num_unique_values\": 8,\n        \"samples\": [\n          5.843333333333334,\n          5.8,\n          150.0\n        ],\n        \"semantic_type\": \"\",\n        \"description\": \"\"\n      }\n    },\n    {\n      \"column\": \"sepal_width\",\n      \"properties\": {\n        \"dtype\": \"number\",\n        \"std\": 52.08647211421483,\n        \"min\": 0.4335943113621737,\n        \"max\": 150.0,\n        \"num_unique_values\": 8,\n        \"samples\": [\n          3.0540000000000003,\n          3.0,\n          150.0\n        ],\n        \"semantic_type\": \"\",\n        \"description\": \"\"\n      }\n    },\n    {\n      \"column\": \"petal_length\",\n      \"properties\": {\n        \"dtype\": \"number\",\n        \"std\": 51.835227940958106,\n        \"min\": 1.0,\n        \"max\": 150.0,\n        \"num_unique_values\": 8,\n        \"samples\": [\n          3.758666666666666,\n          4.35,\n          150.0\n        ],\n        \"semantic_type\": \"\",\n        \"description\": \"\"\n      }\n    },\n    {\n      \"column\": \"petal_width\",\n      \"properties\": {\n        \"dtype\": \"number\",\n        \"std\": 52.63663424340991,\n        \"min\": 0.1,\n        \"max\": 150.0,\n        \"num_unique_values\": 8,\n        \"samples\": [\n          1.1986666666666668,\n          1.3,\n          150.0\n        ],\n        \"semantic_type\": \"\",\n        \"description\": \"\"\n      }\n    }\n  ]\n}"
            }
          },
          "metadata": {},
          "execution_count": 6
        }
      ]
    },
    {
      "cell_type": "markdown",
      "source": [
        "## Check for Duplicate Rows"
      ],
      "metadata": {
        "id": "eVJeMwQdIZoC"
      }
    },
    {
      "cell_type": "code",
      "source": [
        "#Check for duplicate rows\n",
        "print(\"Duplicate rows before removal:\", df.duplicated().sum())"
      ],
      "metadata": {
        "colab": {
          "base_uri": "https://localhost:8080/"
        },
        "id": "5RskJ8gSIZ3k",
        "outputId": "5fb5810f-2df2-4f98-b5dc-e2fb32d54fe4"
      },
      "execution_count": null,
      "outputs": [
        {
          "output_type": "stream",
          "name": "stdout",
          "text": [
            "Duplicate rows before removal: 3\n"
          ]
        }
      ]
    },
    {
      "cell_type": "code",
      "source": [
        "#Remove duplicates\n",
        "df.drop_duplicates(inplace=True)"
      ],
      "metadata": {
        "id": "dvw26eQtIfLq"
      },
      "execution_count": null,
      "outputs": []
    },
    {
      "cell_type": "code",
      "source": [
        "#Confirm removal\n",
        "print(\"Duplicate rows after removal:\", df.duplicated().sum())"
      ],
      "metadata": {
        "colab": {
          "base_uri": "https://localhost:8080/"
        },
        "id": "4ol7IQD-Iiog",
        "outputId": "45bd8a5e-e199-4f95-e4c9-6b7a2f05c1f2"
      },
      "execution_count": null,
      "outputs": [
        {
          "output_type": "stream",
          "name": "stdout",
          "text": [
            "Duplicate rows after removal: 0\n"
          ]
        }
      ]
    },
    {
      "cell_type": "code",
      "source": [
        "df.info() #double check, after duplicate rows removal"
      ],
      "metadata": {
        "colab": {
          "base_uri": "https://localhost:8080/"
        },
        "id": "Lhj89T5LXu-b",
        "outputId": "ba82cda0-2d1b-461d-cca3-a059abf574b6"
      },
      "execution_count": null,
      "outputs": [
        {
          "output_type": "stream",
          "name": "stdout",
          "text": [
            "<class 'pandas.core.frame.DataFrame'>\n",
            "Index: 147 entries, 0 to 149\n",
            "Data columns (total 5 columns):\n",
            " #   Column        Non-Null Count  Dtype  \n",
            "---  ------        --------------  -----  \n",
            " 0   sepal_length  147 non-null    float64\n",
            " 1   sepal_width   147 non-null    float64\n",
            " 2   petal_length  147 non-null    float64\n",
            " 3   petal_width   147 non-null    float64\n",
            " 4   class         147 non-null    object \n",
            "dtypes: float64(4), object(1)\n",
            "memory usage: 6.9+ KB\n"
          ]
        }
      ]
    },
    {
      "cell_type": "markdown",
      "source": [
        "## Check for Outliers"
      ],
      "metadata": {
        "id": "kHrVztbdIlSS"
      }
    },
    {
      "cell_type": "code",
      "source": [
        "#Detect Outliers using IQR\n",
        "#Define numeric columns to check\n",
        "numeric_cols = ['sepal_length', 'sepal_width', 'petal_length', 'petal_width']\n",
        "\n",
        "#Dictionary for outlier counts\n",
        "outlier_counts = {}\n",
        "\n",
        "for col in numeric_cols:\n",
        "    Q1 = df[col].quantile(0.25)\n",
        "    Q3 = df[col].quantile(0.75)\n",
        "    IQR = Q3 - Q1\n",
        "    lower = Q1 - 1.5 * IQR\n",
        "    upper = Q3 + 1.5 * IQR\n",
        "\n",
        "    #Count outliers\n",
        "    count = df[(df[col] < lower) | (df[col] > upper)].shape[0]\n",
        "    outlier_counts[col] = count\n",
        "\n",
        "#Print the outliers per column\n",
        "print(\"Outlier count per column (before removal):\")\n",
        "for col, count in outlier_counts.items():\n",
        "    print(f\"{col}: {count}\")"
      ],
      "metadata": {
        "colab": {
          "base_uri": "https://localhost:8080/"
        },
        "id": "ckRB1iqqIlhH",
        "outputId": "90933973-bf0c-4d03-eb18-e332cac35d12"
      },
      "execution_count": null,
      "outputs": [
        {
          "output_type": "stream",
          "name": "stdout",
          "text": [
            "Outlier count per column (before removal):\n",
            "sepal_length: 0\n",
            "sepal_width: 4\n",
            "petal_length: 0\n",
            "petal_width: 0\n"
          ]
        }
      ]
    },
    {
      "cell_type": "markdown",
      "source": [
        "## Boxplot to Visualize Outliers"
      ],
      "metadata": {
        "id": "1GayeRFGpuuP"
      }
    },
    {
      "cell_type": "code",
      "source": [
        "#Boxplot to visualize outliers\n",
        "import seaborn as sns\n",
        "for col in numeric_cols:\n",
        "    plt.figure(figsize=(6, 3))\n",
        "    sns.boxplot(x=df[col])\n",
        "    plt.title(f'Boxplot for {col} (Before Outlier Removal)')\n",
        "    plt.show()"
      ],
      "metadata": {
        "colab": {
          "base_uri": "https://localhost:8080/",
          "height": 1000
        },
        "id": "Rp7np-TCJfQM",
        "outputId": "83cb0904-8849-4088-8483-54e2d27c629a"
      },
      "execution_count": null,
      "outputs": [
        {
          "output_type": "display_data",
          "data": {
            "text/plain": [
              "<Figure size 600x300 with 1 Axes>"
            ],
            "image/png": "[encoded data removed]"
          },
          "metadata": {}
        },
        {
          "output_type": "display_data",
          "data": {
            "text/plain": [
              "<Figure size 600x300 with 1 Axes>"
            ],
            "image/png": "[encoded data removed]"
          },
          "metadata": {}
        },
        {
          "output_type": "display_data",
          "data": {
            "text/plain": [
              "<Figure size 600x300 with 1 Axes>"
            ],
            "image/png": "[encoded data removed]"
          },
          "metadata": {}
        },
        {
          "output_type": "display_data",
          "data": {
            "text/plain": [
              "<Figure size 600x300 with 1 Axes>"
            ],
            "image/png": "[encoded data removed]"
          },
          "metadata": {}
        }
      ]
    },
    {
      "cell_type": "markdown",
      "source": [
        "The sepal_width column contains 4 outliers, which can distort the mean and standard deviation used in Gaussian Naive Bayes. Since this model assumes normally distributed features, I will remove these outliers to improve prediction accuracy."
      ],
      "metadata": {
        "id": "7nHnj-X7LKt9"
      }
    },
    {
      "cell_type": "markdown",
      "source": [
        "## Outliers Removal"
      ],
      "metadata": {
        "id": "nBKKh4Aap27t"
      }
    },
    {
      "cell_type": "code",
      "source": [
        "#IQR outlier removal\n",
        "Q1 = df['sepal_width'].quantile(0.25)\n",
        "Q3 = df['sepal_width'].quantile(0.75)\n",
        "IQR = Q3 - Q1\n",
        "lower_bound = Q1 - 1.5 * IQR\n",
        "upper_bound = Q3 + 1.5 * IQR\n",
        "\n",
        "#keep only non-outliers\n",
        "df_clean = df[(df['sepal_width'] >= lower_bound) & (df['sepal_width'] <= upper_bound)]\n",
        "print(f\"Original size: {df.shape[0]}, Cleaned size: {df_clean.shape[0]}\")"
      ],
      "metadata": {
        "colab": {
          "base_uri": "https://localhost:8080/"
        },
        "id": "ANB-f2v8LSmo",
        "outputId": "cff6928c-cc8f-4106-d767-f1fe19ad59ba"
      },
      "execution_count": null,
      "outputs": [
        {
          "output_type": "stream",
          "name": "stdout",
          "text": [
            "Original size: 147, Cleaned size: 143\n"
          ]
        }
      ]
    },
    {
      "cell_type": "markdown",
      "source": [
        "The dataset originally had 150 rows, but 3 duplicate rows were removed before preprocessing.\n",
        "\n",
        "We then identified 4 outliers in the sepal_width column and removed them to improve Gaussian Naive Bayes performance, resulting in a final dataset of 143 rows."
      ],
      "metadata": {
        "id": "_rj7XtygN7Ao"
      }
    },
    {
      "cell_type": "code",
      "source": [
        "#we will continue now using the cleaned dataset df_clean instead of the original df\n",
        "df = df_clean.copy()"
      ],
      "metadata": {
        "id": "BUefic8KOEcV"
      },
      "execution_count": null,
      "outputs": []
    },
    {
      "cell_type": "markdown",
      "source": [
        "## Visualize the Class Distribution of our Dataset"
      ],
      "metadata": {
        "id": "EXnNnoMxO-Gp"
      }
    },
    {
      "cell_type": "code",
      "source": [
        "import seaborn as sns\n",
        "import matplotlib.pyplot as plt\n",
        "\n",
        "#count plot for class distribution\n",
        "sns.countplot(x='class', data=df)\n",
        "plt.title('Distribution of Iris Flower Classes')\n",
        "plt.xlabel('Iris Species')\n",
        "plt.ylabel('Count')\n",
        "plt.show()\n"
      ],
      "metadata": {
        "colab": {
          "base_uri": "https://localhost:8080/",
          "height": 472
        },
        "id": "_FZqH1sMO735",
        "outputId": "bd90c694-5db8-475d-b5d5-f78c5fd2e4f2"
      },
      "execution_count": null,
      "outputs": [
        {
          "output_type": "display_data",
          "data": {
            "text/plain": [
              "<Figure size 640x480 with 1 Axes>"
            ],
            "image/png": "[encoded data removed]"
          },
          "metadata": {}
        }
      ]
    },
    {
      "cell_type": "markdown",
      "source": [
        "The class distribution is nearly balanced across the 3 Iris species. After removing duplicates and outliers, each class still has roughly equal representation."
      ],
      "metadata": {
        "id": "SxRhkowfPNj7"
      }
    },
    {
      "cell_type": "markdown",
      "source": [
        "#3. Convert Categorical Columns to Numerical\n",
        "\n",
        "We need to convert the 'class' column from Iris-setosa, Iris-versicolor,\n",
        "Iris-virginica to 0,1,2 and rename it as 'target'.\n",
        "\n",
        "\n"
      ],
      "metadata": {
        "id": "ypmT4ZE4PqVM"
      }
    },
    {
      "cell_type": "code",
      "source": [
        "print(df['class'].unique()) #checking how the 3 classes are actually written in the dataset"
      ],
      "metadata": {
        "colab": {
          "base_uri": "https://localhost:8080/"
        },
        "id": "1vfpCQAwQOaf",
        "outputId": "6bf421a2-403f-4491-d89f-a84d370a1e99"
      },
      "execution_count": null,
      "outputs": [
        {
          "output_type": "stream",
          "name": "stdout",
          "text": [
            "['Iris-setosa' 'Iris-versicolor' 'Iris-virginica']\n"
          ]
        }
      ]
    },
    {
      "cell_type": "code",
      "source": [
        "#converting to numeric using LabelEncoder\n",
        "from sklearn.preprocessing import LabelEncoder\n",
        "\n",
        "le = LabelEncoder()\n",
        "df['target'] = le.fit_transform(df['class'])\n",
        "\n",
        "#print the mapping\n",
        "print(dict(zip(le.classes_, le.transform(le.classes_))))"
      ],
      "metadata": {
        "colab": {
          "base_uri": "https://localhost:8080/"
        },
        "id": "lCxGuUjpQZkq",
        "outputId": "fc8f23df-8d1d-4add-9bfb-688516e80937"
      },
      "execution_count": null,
      "outputs": [
        {
          "output_type": "stream",
          "name": "stdout",
          "text": [
            "{'Iris-setosa': np.int64(0), 'Iris-versicolor': np.int64(1), 'Iris-virginica': np.int64(2)}\n"
          ]
        }
      ]
    },
    {
      "cell_type": "code",
      "source": [
        "print(df.head())"
      ],
      "metadata": {
        "colab": {
          "base_uri": "https://localhost:8080/"
        },
        "id": "XKO5DrV1Rs4X",
        "outputId": "430f4f78-700f-4e1b-8da0-3bf8f75c6311"
      },
      "execution_count": null,
      "outputs": [
        {
          "output_type": "stream",
          "name": "stdout",
          "text": [
            "   sepal_length  sepal_width  petal_length  petal_width        class  target\n",
            "0           5.1          3.5           1.4          0.2  Iris-setosa       0\n",
            "1           4.9          3.0           1.4          0.2  Iris-setosa       0\n",
            "2           4.7          3.2           1.3          0.2  Iris-setosa       0\n",
            "3           4.6          3.1           1.5          0.2  Iris-setosa       0\n",
            "4           5.0          3.6           1.4          0.2  Iris-setosa       0\n"
          ]
        }
      ]
    },
    {
      "cell_type": "markdown",
      "source": [
        "Alright, so now the 'class' feature is renamed as 'target', converted from categorial string to numerical values 0,1,2 where 0 is 'Iris-setosa', 1 is 'Iris-versicolor, and 3 is 'Iris-virginica' respectively."
      ],
      "metadata": {
        "id": "cU3fozWoRvNJ"
      }
    },
    {
      "cell_type": "markdown",
      "source": [
        "## Correlation Heatmap"
      ],
      "metadata": {
        "id": "UKw4EYPoR82v"
      }
    },
    {
      "cell_type": "code",
      "source": [
        "plt.figure(figsize=(10, 6))\n",
        "sns.heatmap(df.drop(columns=['class']).corr(), annot=True, cmap='coolwarm')\n",
        "plt.title('Feature Correlation Matrix')\n",
        "plt.show()\n"
      ],
      "metadata": {
        "colab": {
          "base_uri": "https://localhost:8080/",
          "height": 545
        },
        "id": "OkRJvE3nSy7L",
        "outputId": "d15cbbbf-8c66-4aa5-de0e-beb389b40992"
      },
      "execution_count": null,
      "outputs": [
        {
          "output_type": "display_data",
          "data": {
            "text/plain": [
              "<Figure size 1000x600 with 2 Axes>"
            ],
            "image/png": "[encoded data removed]"
          },
          "metadata": {}
        }
      ]
    },
    {
      "cell_type": "markdown",
      "source": [
        "The heatmap shows that petal_length and petal_width are very strongly and positively correlated with the target (0.95), making them highly predictive.\n",
        "\n",
        "sepal_length also shows a strong positive correlation with the target (0.79), indicating it's moderately important for classification.\n",
        "\n",
        "On the other hand, sepal_width is weakly and negatively correlated with the target (-0.39), making it the least informative feature."
      ],
      "metadata": {
        "id": "JjpY6E4sTNwM"
      }
    },
    {
      "cell_type": "markdown",
      "source": [
        "# 4. Gaussian Naive Bayes - from Scratch Version"
      ],
      "metadata": {
        "id": "l_zi8ufSVbwK"
      }
    },
    {
      "cell_type": "code",
      "source": [
        "import numpy as np\n",
        "import pandas as pd\n",
        "from sklearn.metrics import accuracy_score, confusion_matrix, classification_report\n",
        "\n",
        "def gaussian_pdf(x, mean, var):\n",
        "    eps = 1e-6  #to avoid division by zero\n",
        "    coeff = 1.0 / np.sqrt(2 * np.pi * var + eps)\n",
        "    exponent = np.exp(-(x - mean) ** 2 / (2 * var + eps))\n",
        "    return coeff * exponent\n",
        "\n",
        "def naive_bayes_predict(data, X_test, target_name):\n",
        "    class_labels = data[target_name].unique()\n",
        "    class_stats = {}\n",
        "\n",
        "    #precompute class statistics\n",
        "    for label in class_labels:\n",
        "        subset = data[data[target_name] == label]\n",
        "        means = subset.drop(columns=[target_name]).mean()\n",
        "        variances = subset.drop(columns=[target_name]).var()\n",
        "        prior = len(subset) / len(data)\n",
        "        class_stats[label] = {'mean': means, 'var': variances, 'prior': prior}\n",
        "\n",
        "    predictions = []\n",
        "    for features in X_test.values:\n",
        "        posteriors = {}\n",
        "        for label in class_labels:\n",
        "            stats = class_stats[label]\n",
        "            probs = gaussian_pdf(features, stats['mean'], stats['var'])\n",
        "            posteriors[label] = np.prod(probs) * stats['prior']\n",
        "        predicted_label = max(posteriors, key=posteriors.get)\n",
        "        predictions.append(predicted_label)\n",
        "\n",
        "    return np.array(predictions)"
      ],
      "metadata": {
        "id": "fgUwXyGqVj_r"
      },
      "execution_count": null,
      "outputs": []
    },
    {
      "cell_type": "markdown",
      "source": [
        "## Train the Model and Make Predictions"
      ],
      "metadata": {
        "id": "2_X24avXYCup"
      }
    },
    {
      "cell_type": "code",
      "source": [
        "from sklearn.model_selection import train_test_split\n",
        "\n",
        "X = df.drop(['class', 'target'], axis=1)\n",
        "y = df['target']\n",
        "\n",
        "X_train, X_test, y_train, y_test = train_test_split(X, y, test_size=0.2, random_state=42)\n",
        "\n",
        "#combine train features and target\n",
        "train_data = X_train.copy()\n",
        "train_data['target'] = y_train\n",
        "\n",
        "#make a prediction\n",
        "y_pred = naive_bayes_predict(train_data, X_test, 'target')\n",
        "print(y_pred)\n"
      ],
      "metadata": {
        "colab": {
          "base_uri": "https://localhost:8080/"
        },
        "id": "2-f2hzBafIG1",
        "outputId": "82a52c5c-46d7-4af8-ad3f-bec775ebe209"
      },
      "execution_count": null,
      "outputs": [
        {
          "output_type": "stream",
          "name": "stdout",
          "text": [
            "[2 0 1 2 1 0 2 1 1 0 1 1 2 2 1 2 0 1 2 1 0 2 2 1 1 1 0 0 0]\n"
          ]
        }
      ]
    },
    {
      "cell_type": "markdown",
      "source": [
        "## Model Evaluation"
      ],
      "metadata": {
        "id": "blIEHbHugCW9"
      }
    },
    {
      "cell_type": "code",
      "source": [
        "print(\"\\nAccuracy:\", accuracy_score(y_test, y_pred))\n",
        "print(\"Confusion Matrix:\\n\", confusion_matrix(y_test, y_pred))\n",
        "print(\"Classification Report:\\n\", classification_report(y_test, y_pred))"
      ],
      "metadata": {
        "colab": {
          "base_uri": "https://localhost:8080/"
        },
        "id": "wM4j_ee8feJ7",
        "outputId": "cfd0afb6-77ea-422a-ece0-311a19177a2e"
      },
      "execution_count": null,
      "outputs": [
        {
          "output_type": "stream",
          "name": "stdout",
          "text": [
            "\n",
            "Accuracy: 0.896551724137931\n",
            "Confusion Matrix:\n",
            " [[ 8  0  0]\n",
            " [ 0 10  1]\n",
            " [ 0  2  8]]\n",
            "Classification Report:\n",
            "               precision    recall  f1-score   support\n",
            "\n",
            "           0       1.00      1.00      1.00         8\n",
            "           1       0.83      0.91      0.87        11\n",
            "           2       0.89      0.80      0.84        10\n",
            "\n",
            "    accuracy                           0.90        29\n",
            "   macro avg       0.91      0.90      0.90        29\n",
            "weighted avg       0.90      0.90      0.90        29\n",
            "\n"
          ]
        }
      ]
    },
    {
      "cell_type": "markdown",
      "source": [
        "# 5. Gaussian Naive Bayes - Scikit-learn’s Version"
      ],
      "metadata": {
        "id": "Lbp3Wgx_YnMX"
      }
    },
    {
      "cell_type": "markdown",
      "source": [
        "## Prepare Features and Target\n",
        "\n",
        "## Then, Model Training and Making Predictions"
      ],
      "metadata": {
        "id": "013EsVwngMFa"
      }
    },
    {
      "cell_type": "code",
      "source": [
        "from sklearn.naive_bayes import GaussianNB\n",
        "from sklearn.model_selection import train_test_split\n",
        "from sklearn.metrics import accuracy_score, confusion_matrix, classification_report\n",
        "\n",
        "#prepare features and target\n",
        "\n",
        "X = df.drop(['class', 'target'], axis=1)\n",
        "Y = df['target']\n",
        "\n",
        "#split data\n",
        "X_train, X_test, y_train, y_test = train_test_split(X, Y, test_size=0.2, random_state=42)\n",
        "\n",
        "#train the Gaussian Naive Bayes model\n",
        "\n",
        "clf = GaussianNB() #for continuous features\n",
        "clf.fit(X_train, y_train)\n",
        "#make a prediction\n",
        "y_pred = clf.predict(X_test)\n",
        "print(\"Predictions on test set:\", y_pred)\n"
      ],
      "metadata": {
        "colab": {
          "base_uri": "https://localhost:8080/"
        },
        "id": "6R_cNLg2Y09X",
        "outputId": "b3c1bcd0-1f52-4326-b3f0-3b8f323e4d13"
      },
      "execution_count": null,
      "outputs": [
        {
          "output_type": "stream",
          "name": "stdout",
          "text": [
            "Predictions on test set: [2 0 1 2 1 0 2 1 1 0 1 1 2 2 1 2 0 1 2 1 0 2 2 1 1 1 0 0 0]\n"
          ]
        }
      ]
    },
    {
      "cell_type": "markdown",
      "source": [
        "## Model Evaluation"
      ],
      "metadata": {
        "id": "t6JegbgFgWuv"
      }
    },
    {
      "cell_type": "code",
      "source": [
        "print(\"Accuracy:\", accuracy_score(y_test, y_pred))\n",
        "print(\"Confusion Matrix:\\n\", confusion_matrix(y_test, y_pred))\n",
        "print(\"Classification Report:\\n\", classification_report(y_test, y_pred))"
      ],
      "metadata": {
        "colab": {
          "base_uri": "https://localhost:8080/"
        },
        "id": "0amCcaLZebZZ",
        "outputId": "a1e650f2-0dc8-4501-c84c-19dd25e13c73"
      },
      "execution_count": null,
      "outputs": [
        {
          "output_type": "stream",
          "name": "stdout",
          "text": [
            "Accuracy: 0.896551724137931\n",
            "Confusion Matrix:\n",
            " [[ 8  0  0]\n",
            " [ 0 10  1]\n",
            " [ 0  2  8]]\n",
            "Classification Report:\n",
            "               precision    recall  f1-score   support\n",
            "\n",
            "           0       1.00      1.00      1.00         8\n",
            "           1       0.83      0.91      0.87        11\n",
            "           2       0.89      0.80      0.84        10\n",
            "\n",
            "    accuracy                           0.90        29\n",
            "   macro avg       0.91      0.90      0.90        29\n",
            "weighted avg       0.90      0.90      0.90        29\n",
            "\n"
          ]
        }
      ]
    },
    {
      "cell_type": "markdown",
      "source": [
        "The predicted labels from the Gaussian Naive Bayes perfectly match the comparison results.\n",
        "\n",
        "The model achieved an overall accuracy of about 89.66%.\n",
        "\n",
        "Class 0 (Iris-setosa) scored 100% precision, 100% recall, and f1-score of 1.00. So the model is confident and very accurate about predicting Iris-setosa in particular.\n",
        "\n",
        "Class 1 (Iris-versicolor) achieved precision of 83%, recall of 91%, and f1-score of 0.87. So the model successfully detects most of Iris-versicolor but a few are misclassified in this class.\n",
        "\n",
        "Class 2 (Iris-virginica) showed precision of 89%, recall of 80%, and f1-score of 0.84. So the model is careful when predicting Iris-virginica. It only labels a flower as that class when it's sure."
      ],
      "metadata": {
        "id": "3_ida1f4a6e9"
      }
    },
    {
      "cell_type": "markdown",
      "source": [
        "# 6. Snippet to Test the Model On"
      ],
      "metadata": {
        "id": "NJvs9scOiUNO"
      }
    },
    {
      "cell_type": "markdown",
      "source": [
        "## Test on Gaussian Naive Bayes"
      ],
      "metadata": {
        "id": "HCjyShASi5_H"
      }
    },
    {
      "cell_type": "code",
      "source": [
        "import numpy as np\n",
        "import pandas as pd\n",
        "\n",
        "#custom input sample\n",
        "custom_input = np.array([5.8, 2.8, 5.1, 2.4])\n",
        "\n",
        "#convert to DataFrame with same feature columns as training data (excluding target)\n",
        "custom_df = pd.DataFrame(custom_input.reshape(1, -1), columns=train_data.columns.drop('target'))\n",
        "\n",
        "#predict using your custom Naive Bayes function\n",
        "custom_pred = naive_bayes_predict(train_data, custom_df, 'target')[0]\n",
        "\n",
        "#decode class name from original labels\n",
        "class_names = df['class'].astype('category').cat.categories\n",
        "print(f\"Custom Naive Bayes prediction: Class index = {custom_pred}, Class name = {class_names[custom_pred]}\")\n"
      ],
      "metadata": {
        "colab": {
          "base_uri": "https://localhost:8080/"
        },
        "id": "EOtf6JLgiv-1",
        "outputId": "afe81045-cac4-48a1-dcbc-01f63378adb9"
      },
      "execution_count": null,
      "outputs": [
        {
          "output_type": "stream",
          "name": "stdout",
          "text": [
            "Custom Naive Bayes prediction: Class index = 2, Class name = Iris-virginica\n"
          ]
        }
      ]
    },
    {
      "cell_type": "markdown",
      "source": [
        "## Test on Scikit-learn"
      ],
      "metadata": {
        "id": "ebKh3RY3lhOu"
      }
    },
    {
      "cell_type": "code",
      "source": [
        "import numpy as np\n",
        "\n",
        "#custom input sample\n",
        "custom_input = np.array([5.8, 2.8, 5.1, 2.4]).reshape(1, -1)\n",
        "\n",
        "#predict using scikit-learn GaussianNB model\n",
        "sklearn_pred = clf.predict(custom_input)[0]\n",
        "\n",
        "#decode class name from original labels\n",
        "class_names = df['class'].astype('category').cat.categories\n",
        "print(f\"scikit-learn prediction: Class index = {sklearn_pred}, Class name = {class_names[sklearn_pred]}\")"
      ],
      "metadata": {
        "colab": {
          "base_uri": "https://localhost:8080/"
        },
        "id": "5n6hBxOnlk3d",
        "outputId": "00263ae3-ea4a-4bf7-d127-93bd9603e987"
      },
      "execution_count": null,
      "outputs": [
        {
          "output_type": "stream",
          "name": "stdout",
          "text": [
            "scikit-learn prediction: Class index = 2, Class name = Iris-virginica\n"
          ]
        },
        {
          "output_type": "stream",
          "name": "stderr",
          "text": [
            "/usr/local/lib/python3.11/dist-packages/sklearn/utils/validation.py:2739: UserWarning: X does not have valid feature names, but GaussianNB was fitted with feature names\n",
            "  warnings.warn(\n"
          ]
        }
      ]
    },
    {
      "cell_type": "markdown",
      "source": [
        "Both the custom Gaussian Naive Bayes implementation and scikit-learn’s model predict the same class (Iris-virginica) for the custom input [5.8, 2.8, 5.1, 2.4], confirming that our manual implementation correctly replicates the behavior of the standard algorithm."
      ],
      "metadata": {
        "id": "b9gbH8x3nkFY"
      }
    },
    {
      "cell_type": "markdown",
      "source": [
        "# Findings and Conclusion"
      ],
      "metadata": {
        "id": "zjTomfSeo9Fw"
      }
    },
    {
      "cell_type": "markdown",
      "source": [
        "In this challenge, we explored and preprocessed the Iris dataset, encoded the target and ensured numeric features.\n",
        "\n",
        "A Gaussian Naive Bayes model was implemented from scratch and compared to scikit-learn’s version.\n",
        "\n",
        "Both showed consistent predictions and strong performance (89.66% accuracy) across all classes. Testing on custom inputs confirmed the models’ reliability.\n",
        "\n",
        "Overall, this validates the effectiveness of Gaussian Naive Bayes for continuous multiclass classification.\n",
        "\n"
      ],
      "metadata": {
        "id": "cs02KVVxpCXI"
      }
    }
  ]
}